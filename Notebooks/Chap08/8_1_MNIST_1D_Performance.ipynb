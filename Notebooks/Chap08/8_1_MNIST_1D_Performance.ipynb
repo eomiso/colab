{
  "cells": [
    {
      "cell_type": "markdown",
      "metadata": {
        "id": "view-in-github",
        "colab_type": "text"
      },
      "source": [
        "<a href=\"https://colab.research.google.com/github/eomiso/colab/blob/main/Notebooks/Chap08/8_1_MNIST_1D_Performance.ipynb\" target=\"_parent\"><img src=\"https://colab.research.google.com/assets/colab-badge.svg\" alt=\"Open In Colab\"/></a>"
      ]
    },
    {
      "cell_type": "markdown",
      "metadata": {
        "id": "L6chybAVFJW2"
      },
      "source": [
        "# **Notebook 8.1: MNIST_1D_Performance**\n",
        "\n",
        "This notebook runs a simple neural network on the MNIST1D dataset as in figure 8.2a. It uses code from https://github.com/greydanus/mnist1d to generate the data.\n",
        "\n",
        "Work through the cells below, running each cell in turn. In various places you will see the words \"TODO\". Follow the instructions at these places and make predictions about what is going to happen or write code to complete the functions.\n",
        "\n",
        "Contact me at udlbookmail@gmail.com if you find any mistakes or have any suggestions."
      ]
    },
    {
      "cell_type": "code",
      "execution_count": 1,
      "metadata": {
        "id": "ifVjS4cTOqKz",
        "colab": {
          "base_uri": "https://localhost:8080/"
        },
        "outputId": "99e68863-8695-49bb-ae81-c25990389fa0"
      },
      "outputs": [
        {
          "output_type": "stream",
          "name": "stdout",
          "text": [
            "Collecting git+https://github.com/greydanus/mnist1d\n",
            "  Cloning https://github.com/greydanus/mnist1d to /tmp/pip-req-build-s34co4at\n",
            "  Running command git clone --filter=blob:none --quiet https://github.com/greydanus/mnist1d /tmp/pip-req-build-s34co4at\n",
            "  Resolved https://github.com/greydanus/mnist1d to commit 7878d96082abd200c546a07a4101fa90b30fdf7e\n",
            "  Installing build dependencies ... \u001b[?25l\u001b[?25hdone\n",
            "  Getting requirements to build wheel ... \u001b[?25l\u001b[?25hdone\n",
            "  Preparing metadata (pyproject.toml) ... \u001b[?25l\u001b[?25hdone\n",
            "Requirement already satisfied: requests in /usr/local/lib/python3.11/dist-packages (from mnist1d==0.0.2.post16) (2.32.3)\n",
            "Requirement already satisfied: numpy in /usr/local/lib/python3.11/dist-packages (from mnist1d==0.0.2.post16) (2.0.2)\n",
            "Requirement already satisfied: matplotlib in /usr/local/lib/python3.11/dist-packages (from mnist1d==0.0.2.post16) (3.10.0)\n",
            "Requirement already satisfied: scipy in /usr/local/lib/python3.11/dist-packages (from mnist1d==0.0.2.post16) (1.15.3)\n",
            "Requirement already satisfied: contourpy>=1.0.1 in /usr/local/lib/python3.11/dist-packages (from matplotlib->mnist1d==0.0.2.post16) (1.3.2)\n",
            "Requirement already satisfied: cycler>=0.10 in /usr/local/lib/python3.11/dist-packages (from matplotlib->mnist1d==0.0.2.post16) (0.12.1)\n",
            "Requirement already satisfied: fonttools>=4.22.0 in /usr/local/lib/python3.11/dist-packages (from matplotlib->mnist1d==0.0.2.post16) (4.58.5)\n",
            "Requirement already satisfied: kiwisolver>=1.3.1 in /usr/local/lib/python3.11/dist-packages (from matplotlib->mnist1d==0.0.2.post16) (1.4.8)\n",
            "Requirement already satisfied: packaging>=20.0 in /usr/local/lib/python3.11/dist-packages (from matplotlib->mnist1d==0.0.2.post16) (25.0)\n",
            "Requirement already satisfied: pillow>=8 in /usr/local/lib/python3.11/dist-packages (from matplotlib->mnist1d==0.0.2.post16) (11.2.1)\n",
            "Requirement already satisfied: pyparsing>=2.3.1 in /usr/local/lib/python3.11/dist-packages (from matplotlib->mnist1d==0.0.2.post16) (3.2.3)\n",
            "Requirement already satisfied: python-dateutil>=2.7 in /usr/local/lib/python3.11/dist-packages (from matplotlib->mnist1d==0.0.2.post16) (2.9.0.post0)\n",
            "Requirement already satisfied: charset-normalizer<4,>=2 in /usr/local/lib/python3.11/dist-packages (from requests->mnist1d==0.0.2.post16) (3.4.2)\n",
            "Requirement already satisfied: idna<4,>=2.5 in /usr/local/lib/python3.11/dist-packages (from requests->mnist1d==0.0.2.post16) (3.10)\n",
            "Requirement already satisfied: urllib3<3,>=1.21.1 in /usr/local/lib/python3.11/dist-packages (from requests->mnist1d==0.0.2.post16) (2.4.0)\n",
            "Requirement already satisfied: certifi>=2017.4.17 in /usr/local/lib/python3.11/dist-packages (from requests->mnist1d==0.0.2.post16) (2025.7.14)\n",
            "Requirement already satisfied: six>=1.5 in /usr/local/lib/python3.11/dist-packages (from python-dateutil>=2.7->matplotlib->mnist1d==0.0.2.post16) (1.17.0)\n",
            "Building wheels for collected packages: mnist1d\n",
            "  Building wheel for mnist1d (pyproject.toml) ... \u001b[?25l\u001b[?25hdone\n",
            "  Created wheel for mnist1d: filename=mnist1d-0.0.2.post16-py3-none-any.whl size=14665 sha256=23e757ab32fa19849aa1361864d08dbfff101d0e40b2ce78d821f0aa47511f13\n",
            "  Stored in directory: /tmp/pip-ephem-wheel-cache-xf132gkw/wheels/d6/38/42/3d2112bc7d915f6195254ac85eb761d922d1b18f52817aa8e2\n",
            "Successfully built mnist1d\n",
            "Installing collected packages: mnist1d\n",
            "Successfully installed mnist1d-0.0.2.post16\n"
          ]
        }
      ],
      "source": [
        "# Run this if you're in a Colab to install MNIST 1D repository\n",
        "%pip install git+https://github.com/greydanus/mnist1d"
      ]
    },
    {
      "cell_type": "code",
      "execution_count": 2,
      "metadata": {
        "id": "qyE7G1StPIqO"
      },
      "outputs": [],
      "source": [
        "import torch, torch.nn as nn\n",
        "from torch.utils.data import TensorDataset, DataLoader\n",
        "from torch.optim.lr_scheduler import StepLR\n",
        "import numpy as np\n",
        "import matplotlib.pyplot as plt\n",
        "import mnist1d"
      ]
    },
    {
      "cell_type": "markdown",
      "metadata": {
        "id": "F7LNq72SP6jO"
      },
      "source": [
        "Let's generate a training and test dataset using the MNIST1D code.  The dataset gets saved as a .pkl file so it doesn't have to be regenerated each time."
      ]
    },
    {
      "cell_type": "code",
      "execution_count": 81,
      "metadata": {
        "id": "YLxf7dJfPaqw",
        "colab": {
          "base_uri": "https://localhost:8080/"
        },
        "outputId": "91ee0872-b975-463b-80ca-0e98ea25de08"
      },
      "outputs": [
        {
          "output_type": "stream",
          "name": "stdout",
          "text": [
            "Successfully loaded data from ./mnist1d_data.pkl\n",
            "Examples in training set: 4000\n",
            "Examples in test set: 1000\n",
            "Length of each example: 40\n"
          ]
        }
      ],
      "source": [
        "args = mnist1d.data.get_dataset_args()\n",
        "data = mnist1d.data.get_dataset(args, path='./mnist1d_data.pkl', download=False, regenerate=False)\n",
        "\n",
        "# The training and test input and outputs are in\n",
        "# data['x'], data['y'], data['x_test'], and data['y_test']\n",
        "print(\"Examples in training set: {}\".format(len(data['y'])))\n",
        "print(\"Examples in test set: {}\".format(len(data['y_test'])))\n",
        "print(\"Length of each example: {}\".format(data['x'].shape[-1]))"
      ]
    },
    {
      "cell_type": "code",
      "source": [
        "print(data.keys())\n"
      ],
      "metadata": {
        "colab": {
          "base_uri": "https://localhost:8080/"
        },
        "id": "RTq4byav5nax",
        "outputId": "9845cd19-eba6-48e2-9c91-49959a3d1437"
      },
      "execution_count": 82,
      "outputs": [
        {
          "output_type": "stream",
          "name": "stdout",
          "text": [
            "dict_keys(['x', 'x_test', 'y', 'y_test', 't', 'templates'])\n"
          ]
        },
        {
          "output_type": "execute_result",
          "data": {
            "text/plain": [
              "array([[-0.33200567, -0.47191037, -0.77869708, ..., -0.7167305 ,\n",
              "        -0.96195825, -0.89016639],\n",
              "       [ 1.96548088,  2.30021254,  2.21339278, ..., -1.68751297,\n",
              "        -1.42642212, -1.36421511],\n",
              "       [-0.01930303,  0.07863308,  0.62488909, ..., -1.08555748,\n",
              "        -1.79809121, -2.3153282 ],\n",
              "       ...,\n",
              "       [-1.69449348, -1.2805858 , -0.65125255, ..., -0.72365942,\n",
              "        -0.38266551, -0.03165042],\n",
              "       [ 0.99646721,  0.80844603,  0.1553411 , ..., -0.30286571,\n",
              "        -0.28555128, -0.1183879 ],\n",
              "       [-0.6939948 , -0.27532169,  0.29267968, ..., -1.21624513,\n",
              "        -1.4649417 , -1.65099286]])"
            ]
          },
          "metadata": {},
          "execution_count": 82
        }
      ]
    },
    {
      "cell_type": "code",
      "execution_count": 95,
      "metadata": {
        "id": "FxaB5vc0uevl",
        "colab": {
          "base_uri": "https://localhost:8080/"
        },
        "outputId": "9125534c-2d5b-442f-9539-0d0a5c53589a"
      },
      "outputs": [
        {
          "output_type": "stream",
          "name": "stdout",
          "text": [
            "Epoch     0, train loss 2.769301, train error 88.72,  test loss 2.761657, test error 86.40\n",
            "Epoch     1, train loss 1.771815, train error 68.88,  test loss 1.810515, test error 70.90\n",
            "Epoch     2, train loss 1.606782, train error 62.10,  test loss 1.683208, test error 66.60\n",
            "Epoch     3, train loss 1.512655, train error 56.30,  test loss 1.605676, test error 60.40\n",
            "Epoch     4, train loss 1.454204, train error 55.55,  test loss 1.579686, test error 62.00\n",
            "Epoch     5, train loss 1.369184, train error 50.00,  test loss 1.514455, test error 57.10\n",
            "Epoch     6, train loss 1.303497, train error 46.80,  test loss 1.467931, test error 57.70\n",
            "Epoch     7, train loss 1.238738, train error 43.67,  test loss 1.408807, test error 54.60\n",
            "Epoch     8, train loss 1.189307, train error 41.53,  test loss 1.386753, test error 54.60\n",
            "Epoch     9, train loss 1.141439, train error 39.80,  test loss 1.346835, test error 52.80\n",
            "Epoch    10, train loss 1.096282, train error 38.55,  test loss 1.325144, test error 51.30\n",
            "Epoch    11, train loss 1.053316, train error 36.75,  test loss 1.293025, test error 50.30\n",
            "Epoch    12, train loss 1.019831, train error 35.82,  test loss 1.270860, test error 50.90\n",
            "Epoch    13, train loss 0.983993, train error 34.47,  test loss 1.256852, test error 48.30\n",
            "Epoch    14, train loss 0.959805, train error 33.75,  test loss 1.238984, test error 49.40\n",
            "Epoch    15, train loss 0.912953, train error 32.03,  test loss 1.215821, test error 46.50\n",
            "Epoch    16, train loss 0.879647, train error 30.03,  test loss 1.196421, test error 45.90\n",
            "Epoch    17, train loss 0.859974, train error 30.00,  test loss 1.179362, test error 46.60\n",
            "Epoch    18, train loss 0.837819, train error 29.75,  test loss 1.187719, test error 46.20\n",
            "Epoch    19, train loss 0.790286, train error 26.22,  test loss 1.155934, test error 45.50\n",
            "Epoch    20, train loss 0.768129, train error 25.53,  test loss 1.145778, test error 44.40\n",
            "Epoch    21, train loss 0.744683, train error 24.85,  test loss 1.137982, test error 43.70\n",
            "Epoch    22, train loss 0.732560, train error 24.80,  test loss 1.146527, test error 44.80\n",
            "Epoch    23, train loss 0.694320, train error 22.78,  test loss 1.130846, test error 44.20\n",
            "Epoch    24, train loss 0.669243, train error 20.97,  test loss 1.112171, test error 43.40\n",
            "Epoch    25, train loss 0.657170, train error 21.68,  test loss 1.113927, test error 43.90\n",
            "Epoch    26, train loss 0.636187, train error 20.78,  test loss 1.133489, test error 43.50\n",
            "Epoch    27, train loss 0.620035, train error 19.90,  test loss 1.123413, test error 42.40\n",
            "Epoch    28, train loss 0.588216, train error 18.38,  test loss 1.093916, test error 42.10\n",
            "Epoch    29, train loss 0.568325, train error 17.45,  test loss 1.102249, test error 41.70\n",
            "Epoch    30, train loss 0.560336, train error 18.00,  test loss 1.098996, test error 42.10\n",
            "Epoch    31, train loss 0.532963, train error 16.40,  test loss 1.097002, test error 41.40\n",
            "Epoch    32, train loss 0.518422, train error 15.70,  test loss 1.111953, test error 41.10\n",
            "Epoch    33, train loss 0.496075, train error 14.68,  test loss 1.092090, test error 41.80\n",
            "Epoch    34, train loss 0.483498, train error 14.15,  test loss 1.108136, test error 40.80\n",
            "Epoch    35, train loss 0.464686, train error 13.75,  test loss 1.109548, test error 41.40\n",
            "Epoch    36, train loss 0.470437, train error 15.22,  test loss 1.136825, test error 40.90\n",
            "Epoch    37, train loss 0.442033, train error 13.38,  test loss 1.120317, test error 41.20\n",
            "Epoch    38, train loss 0.427921, train error 12.88,  test loss 1.139057, test error 41.50\n",
            "Epoch    39, train loss 0.402664, train error 11.45,  test loss 1.094640, test error 40.30\n",
            "Epoch    40, train loss 0.394481, train error 11.85,  test loss 1.137420, test error 41.70\n",
            "Epoch    41, train loss 0.399094, train error 12.35,  test loss 1.145310, test error 41.30\n",
            "Epoch    42, train loss 0.371829, train error 9.95,  test loss 1.127803, test error 42.00\n",
            "Epoch    43, train loss 0.349492, train error 9.28,  test loss 1.137609, test error 41.10\n",
            "Epoch    44, train loss 0.334513, train error 8.30,  test loss 1.121941, test error 40.40\n",
            "Epoch    45, train loss 0.332106, train error 9.20,  test loss 1.168145, test error 41.60\n",
            "Epoch    46, train loss 0.311450, train error 7.60,  test loss 1.161028, test error 41.30\n",
            "Epoch    47, train loss 0.316310, train error 8.95,  test loss 1.192182, test error 40.70\n",
            "Epoch    48, train loss 0.319126, train error 9.20,  test loss 1.222548, test error 42.20\n",
            "Epoch    49, train loss 0.284102, train error 6.72,  test loss 1.187125, test error 41.00\n",
            "Epoch    50, train loss 0.285668, train error 7.12,  test loss 1.192352, test error 41.40\n",
            "Epoch    51, train loss 0.250892, train error 5.18,  test loss 1.171194, test error 40.30\n",
            "Epoch    52, train loss 0.264792, train error 6.25,  test loss 1.199553, test error 40.70\n",
            "Epoch    53, train loss 0.239521, train error 5.22,  test loss 1.176827, test error 40.50\n",
            "Epoch    54, train loss 0.227472, train error 4.60,  test loss 1.208609, test error 41.30\n",
            "Epoch    55, train loss 0.224760, train error 4.70,  test loss 1.221185, test error 40.90\n",
            "Epoch    56, train loss 0.199803, train error 2.93,  test loss 1.202472, test error 40.50\n",
            "Epoch    57, train loss 0.198758, train error 3.43,  test loss 1.225975, test error 40.40\n",
            "Epoch    58, train loss 0.185749, train error 2.68,  test loss 1.192076, test error 40.20\n",
            "Epoch    59, train loss 0.183838, train error 3.18,  test loss 1.212461, test error 39.70\n",
            "Epoch    60, train loss 0.170013, train error 1.95,  test loss 1.255925, test error 40.60\n",
            "Epoch    61, train loss 0.163275, train error 1.90,  test loss 1.256882, test error 39.80\n",
            "Epoch    62, train loss 0.173882, train error 3.03,  test loss 1.276327, test error 40.60\n",
            "Epoch    63, train loss 0.152359, train error 1.50,  test loss 1.275852, test error 41.10\n",
            "Epoch    64, train loss 0.148844, train error 1.72,  test loss 1.282131, test error 40.20\n",
            "Epoch    65, train loss 0.138471, train error 1.47,  test loss 1.278642, test error 40.60\n",
            "Epoch    66, train loss 0.131898, train error 1.10,  test loss 1.305611, test error 40.70\n",
            "Epoch    67, train loss 0.125692, train error 1.30,  test loss 1.319438, test error 40.00\n",
            "Epoch    68, train loss 0.120462, train error 0.90,  test loss 1.329899, test error 41.00\n",
            "Epoch    69, train loss 0.121709, train error 1.18,  test loss 1.323423, test error 40.10\n",
            "Epoch    70, train loss 0.109798, train error 0.70,  test loss 1.321510, test error 39.80\n",
            "Epoch    71, train loss 0.108486, train error 0.60,  test loss 1.358941, test error 40.10\n",
            "Epoch    72, train loss 0.112026, train error 1.18,  test loss 1.368133, test error 40.70\n",
            "Epoch    73, train loss 0.101133, train error 0.50,  test loss 1.346536, test error 39.90\n",
            "Epoch    74, train loss 0.101177, train error 0.70,  test loss 1.349560, test error 39.80\n",
            "Epoch    75, train loss 0.097649, train error 0.60,  test loss 1.410314, test error 40.90\n",
            "Epoch    76, train loss 0.086212, train error 0.38,  test loss 1.379105, test error 40.60\n",
            "Epoch    77, train loss 0.084379, train error 0.43,  test loss 1.398136, test error 39.80\n",
            "Epoch    78, train loss 0.078445, train error 0.22,  test loss 1.417902, test error 40.40\n",
            "Epoch    79, train loss 0.077790, train error 0.20,  test loss 1.417925, test error 40.70\n",
            "Epoch    80, train loss 0.074009, train error 0.22,  test loss 1.433188, test error 40.10\n",
            "Epoch    81, train loss 0.072047, train error 0.15,  test loss 1.432153, test error 40.20\n",
            "Epoch    82, train loss 0.065654, train error 0.10,  test loss 1.455165, test error 40.20\n",
            "Epoch    83, train loss 0.064385, train error 0.15,  test loss 1.448764, test error 40.30\n",
            "Epoch    84, train loss 0.059439, train error 0.05,  test loss 1.454321, test error 40.30\n",
            "Epoch    85, train loss 0.058773, train error 0.03,  test loss 1.462894, test error 40.90\n",
            "Epoch    86, train loss 0.055570, train error 0.00,  test loss 1.481900, test error 40.10\n",
            "Epoch    87, train loss 0.053859, train error 0.03,  test loss 1.488338, test error 40.80\n",
            "Epoch    88, train loss 0.051763, train error 0.03,  test loss 1.479468, test error 39.80\n",
            "Epoch    89, train loss 0.048803, train error 0.00,  test loss 1.495187, test error 40.20\n",
            "Epoch    90, train loss 0.049881, train error 0.03,  test loss 1.496348, test error 40.20\n",
            "Epoch    91, train loss 0.049132, train error 0.00,  test loss 1.523769, test error 40.80\n",
            "Epoch    92, train loss 0.045124, train error 0.00,  test loss 1.537372, test error 40.90\n",
            "Epoch    93, train loss 0.042719, train error 0.00,  test loss 1.540262, test error 40.60\n",
            "Epoch    94, train loss 0.041753, train error 0.00,  test loss 1.529772, test error 40.50\n",
            "Epoch    95, train loss 0.040428, train error 0.00,  test loss 1.540252, test error 40.30\n",
            "Epoch    96, train loss 0.039838, train error 0.00,  test loss 1.558217, test error 40.80\n",
            "Epoch    97, train loss 0.037652, train error 0.00,  test loss 1.567359, test error 40.60\n",
            "Epoch    98, train loss 0.036045, train error 0.00,  test loss 1.563330, test error 40.70\n",
            "Epoch    99, train loss 0.036844, train error 0.00,  test loss 1.589873, test error 40.90\n",
            "Epoch   100, train loss 0.036368, train error 0.00,  test loss 1.593673, test error 40.50\n",
            "Epoch   101, train loss 0.033167, train error 0.00,  test loss 1.595810, test error 40.60\n",
            "Epoch   102, train loss 0.033768, train error 0.00,  test loss 1.616189, test error 40.90\n",
            "Epoch   103, train loss 0.032402, train error 0.00,  test loss 1.628856, test error 41.10\n",
            "Epoch   104, train loss 0.030348, train error 0.00,  test loss 1.621014, test error 40.30\n",
            "Epoch   105, train loss 0.029509, train error 0.00,  test loss 1.627915, test error 40.50\n",
            "Epoch   106, train loss 0.030022, train error 0.00,  test loss 1.636059, test error 40.30\n",
            "Epoch   107, train loss 0.028510, train error 0.00,  test loss 1.644796, test error 41.20\n",
            "Epoch   108, train loss 0.027877, train error 0.00,  test loss 1.665308, test error 40.50\n",
            "Epoch   109, train loss 0.026823, train error 0.00,  test loss 1.652101, test error 40.90\n",
            "Epoch   110, train loss 0.026594, train error 0.00,  test loss 1.645457, test error 40.70\n",
            "Epoch   111, train loss 0.025649, train error 0.00,  test loss 1.666149, test error 40.50\n",
            "Epoch   112, train loss 0.025222, train error 0.00,  test loss 1.666168, test error 40.60\n",
            "Epoch   113, train loss 0.024088, train error 0.00,  test loss 1.685442, test error 40.60\n",
            "Epoch   114, train loss 0.024108, train error 0.00,  test loss 1.696303, test error 40.50\n",
            "Epoch   115, train loss 0.023309, train error 0.00,  test loss 1.684954, test error 40.80\n",
            "Epoch   116, train loss 0.022928, train error 0.00,  test loss 1.694466, test error 41.00\n",
            "Epoch   117, train loss 0.022232, train error 0.00,  test loss 1.697911, test error 40.50\n",
            "Epoch   118, train loss 0.021991, train error 0.00,  test loss 1.708976, test error 40.50\n",
            "Epoch   119, train loss 0.021444, train error 0.00,  test loss 1.715125, test error 40.50\n",
            "Epoch   120, train loss 0.020952, train error 0.00,  test loss 1.720804, test error 40.50\n",
            "Epoch   121, train loss 0.020350, train error 0.00,  test loss 1.730633, test error 40.70\n",
            "Epoch   122, train loss 0.019785, train error 0.00,  test loss 1.724532, test error 40.30\n",
            "Epoch   123, train loss 0.019768, train error 0.00,  test loss 1.751426, test error 41.00\n",
            "Epoch   124, train loss 0.019156, train error 0.00,  test loss 1.743725, test error 40.60\n",
            "Epoch   125, train loss 0.019408, train error 0.00,  test loss 1.740382, test error 40.10\n",
            "Epoch   126, train loss 0.018877, train error 0.00,  test loss 1.745160, test error 40.50\n",
            "Epoch   127, train loss 0.018106, train error 0.00,  test loss 1.764592, test error 40.80\n",
            "Epoch   128, train loss 0.017956, train error 0.00,  test loss 1.761266, test error 40.40\n",
            "Epoch   129, train loss 0.017568, train error 0.00,  test loss 1.765948, test error 40.70\n",
            "Epoch   130, train loss 0.017131, train error 0.00,  test loss 1.777832, test error 40.40\n",
            "Epoch   131, train loss 0.016840, train error 0.00,  test loss 1.783041, test error 39.90\n",
            "Epoch   132, train loss 0.016395, train error 0.00,  test loss 1.785419, test error 40.60\n",
            "Epoch   133, train loss 0.016244, train error 0.00,  test loss 1.787319, test error 40.60\n",
            "Epoch   134, train loss 0.015924, train error 0.00,  test loss 1.797108, test error 40.50\n",
            "Epoch   135, train loss 0.015743, train error 0.00,  test loss 1.794678, test error 40.40\n",
            "Epoch   136, train loss 0.015339, train error 0.00,  test loss 1.802022, test error 40.80\n",
            "Epoch   137, train loss 0.015050, train error 0.00,  test loss 1.805323, test error 40.30\n",
            "Epoch   138, train loss 0.014936, train error 0.00,  test loss 1.803628, test error 40.40\n",
            "Epoch   139, train loss 0.014669, train error 0.00,  test loss 1.811972, test error 40.50\n",
            "Epoch   140, train loss 0.014590, train error 0.00,  test loss 1.811898, test error 40.90\n",
            "Epoch   141, train loss 0.014194, train error 0.00,  test loss 1.814274, test error 39.80\n",
            "Epoch   142, train loss 0.014155, train error 0.00,  test loss 1.829251, test error 40.20\n",
            "Epoch   143, train loss 0.013836, train error 0.00,  test loss 1.838957, test error 40.50\n",
            "Epoch   144, train loss 0.013569, train error 0.00,  test loss 1.834364, test error 40.30\n",
            "Epoch   145, train loss 0.013308, train error 0.00,  test loss 1.836200, test error 40.70\n",
            "Epoch   146, train loss 0.013235, train error 0.00,  test loss 1.847748, test error 40.40\n",
            "Epoch   147, train loss 0.012928, train error 0.00,  test loss 1.851118, test error 40.60\n",
            "Epoch   148, train loss 0.012700, train error 0.00,  test loss 1.848864, test error 40.20\n",
            "Epoch   149, train loss 0.012601, train error 0.00,  test loss 1.854896, test error 40.30\n"
          ]
        }
      ],
      "source": [
        "D_i = 40    # Input dimensions\n",
        "D_k = 100   # Hidden dimensions\n",
        "D_o = 10    # Output dimensions\n",
        "# TODO:\n",
        "# Define a model with two hidden layers of size 100\n",
        "# And ReLU activations between them\n",
        "# Replace this line (see Figure 7.8 of book for help):\n",
        "model = torch.nn.Sequential(\n",
        "    torch.nn.Linear(D_i, D_k),\n",
        "    torch.nn.ReLU(),\n",
        "    torch.nn.Linear(D_k, D_k),\n",
        "    torch.nn.ReLU(),\n",
        "    torch.nn.Linear(D_k, D_o),\n",
        "    )\n",
        "\n",
        "\n",
        "def weights_init(layer_in):\n",
        "  # TODO:\n",
        "  # Initialize the parameters with He initialization\n",
        "  # Replace this line (see figure 7.8 of book for help)\n",
        "  if isinstance(layer_in, nn.Linear):\n",
        "    nn.init.kaiming_normal_(layer_in.weight)\n",
        "    layer_in.bias.data.fill_(0.0)\n",
        "\n",
        "# choose cross entropy loss function (equation 5.24)\n",
        "loss_function = torch.nn.CrossEntropyLoss()\n",
        "\n",
        "optimizer = torch.optim.SGD(model.parameters(), lr = 0.1)\n",
        "# object that decreases learning rate by half every 10 epochs\n",
        "scheduler = StepLR(optimizer, step_size=10, gamma=0.5)\n",
        "x_train = torch.tensor(data['x'].astype('float32'))\n",
        "y_train = torch.tensor(data['y'].transpose().astype('int64'))\n",
        "x_test= torch.tensor(data['x_test'].astype('float32'))\n",
        "y_test = torch.tensor(data['y_test'].astype('int64'))\n",
        "\n",
        "# load the data into a class that creates the batches\n",
        "data_loader = DataLoader(TensorDataset(x_train,y_train), batch_size=100, shuffle=True, worker_init_fn=lambda: np.random.seed(1))\n",
        "\n",
        "# Initialize model weights\n",
        "model.apply(weights_init)\n",
        "\n",
        "# loop over the dataset n_epoch times\n",
        "n_epoch = 150\n",
        "# store the loss and the % correct at each epoch\n",
        "losses_train = np.zeros((40*n_epoch))\n",
        "errors_train = np.zeros((40*n_epoch))\n",
        "losses_test = np.zeros((40*n_epoch))\n",
        "errors_test = np.zeros((40*n_epoch))\n",
        "\n",
        "step = 0\n",
        "for epoch in range(n_epoch):\n",
        "  # loop over batches\n",
        "  for i, batch in enumerate(data_loader):\n",
        "    # retrieve inputs and labels for this batch\n",
        "    x_batch, y_batch = batch\n",
        "    # zero the parameter gradients\n",
        "    optimizer.zero_grad()\n",
        "    # forward pass -- calculate model output\n",
        "    pred = model(x_batch)\n",
        "    # compute the loss\n",
        "    loss = loss_function(pred, y_batch)\n",
        "    # backward pass\n",
        "    loss.backward()\n",
        "    # SGD update\n",
        "    optimizer.step()\n",
        "\n",
        "    # Run whole dataset to get statistics -- normally wouldn't do this\n",
        "    with torch.no_grad():\n",
        "      pred_train = model(x_train)\n",
        "      pred_test = model(x_test)\n",
        "      _, predicted_train_class = torch.max(pred_train.data, 1)\n",
        "      _, predicted_test_class = torch.max(pred_test.data, 1)\n",
        "      errors_train[step] = 100 - 100 * (predicted_train_class == y_train).float().sum() / len(y_train)\n",
        "      errors_test[step]= 100 - 100 * (predicted_test_class == y_test).float().sum() / len(y_test)\n",
        "      losses_train[step] = loss_function(pred_train, y_train).item()\n",
        "      losses_test[step]= loss_function(pred_test, y_test).item()\n",
        "\n",
        "    step += 1\n",
        "  print(f'Epoch {epoch:5d}, train loss {losses_train[epoch*40]:.6f}, train error {errors_train[epoch*40]:3.2f},  test loss {losses_test[epoch*40]:.6f}, test error {errors_test[epoch*40]:3.2f}')\n",
        "\n",
        "  # tell scheduler to consider updating learning rate\n",
        "  # scheduler.step()"
      ]
    },
    {
      "cell_type": "code",
      "execution_count": 96,
      "metadata": {
        "id": "yI-l6kA_EH9G",
        "colab": {
          "base_uri": "https://localhost:8080/",
          "height": 927
        },
        "outputId": "1e6a9cc1-c37a-4b43-a0ac-c52b495b7ff4"
      },
      "outputs": [
        {
          "output_type": "display_data",
          "data": {
            "text/plain": [
              "<Figure size 640x480 with 1 Axes>"
            ],
            "image/png": "[encoded data removed]"
          },
          "metadata": {}
        },
        {
          "output_type": "display_data",
          "data": {
            "text/plain": [
              "<Figure size 640x480 with 1 Axes>"
            ],
            "image/png": "[encoded data removed]"
          },
          "metadata": {}
        }
      ],
      "source": [
        "# Plot the results\n",
        "fig, ax = plt.subplots()\n",
        "# The data is already stored per step, so we just need to plot it\n",
        "ax.plot(errors_train,'r-',label='train')\n",
        "ax.plot(errors_test,'b-',label='test')\n",
        "# Set x-axis limit to the total number of steps\n",
        "ax.set_ylim(0,100); ax.set_xlim(0, len(errors_train)) # Use len(errors_train) for total steps\n",
        "ax.set_xlabel('Steps'); ax.set_ylabel('Error')\n",
        "ax.set_title('TrainError %3.2f, Test Error %3.2f'%(errors_train[-1],errors_test[-1]))\n",
        "ax.legend()\n",
        "plt.show()\n",
        "\n",
        "# Plot the results\n",
        "fig, ax = plt.subplots()\n",
        "# The data is already stored per step, so we just need to plot it\n",
        "ax.plot(losses_train,'r-',label='train')\n",
        "ax.plot(losses_test,'b-',label='test')\n",
        "# Set x-axis limit to the total number of steps\n",
        "ax.set_xlim(0, len(losses_train)) # Use len(losses_train) for total steps\n",
        "ax.set_xlabel('Steps'); ax.set_ylabel('Loss')\n",
        "ax.set_title('Train loss %3.2f, Test loss %3.2f'%(losses_train[-1],losses_test[-1]))\n",
        "ax.legend()\n",
        "plt.show()"
      ]
    },
    {
      "cell_type": "markdown",
      "source": [
        "## 더 빨리 학습을 끝내는 방법\n",
        "\n",
        "StepLR 을 사용하고, momentum을 쓴다면 더 빨리 끝낼 수 있다."
      ],
      "metadata": {
        "id": "74aMm3moLGet"
      }
    },
    {
      "cell_type": "markdown",
      "metadata": {
        "id": "q-yT6re6GZS4"
      },
      "source": [
        "**TODO**\n",
        "\n",
        "Play with the model -- try changing the number of layers, hidden units, learning rate, batch size, momentum or anything else you like.  See if you can improve the test results.\n",
        "\n",
        "Is it a good idea to optimize the hyperparameters in this way?  Will the final result be a good estimate of the true test performance?"
      ]
    },
    {
      "cell_type": "code",
      "source": [],
      "metadata": {
        "id": "PzkwxlBALN2v"
      },
      "execution_count": null,
      "outputs": []
    }
  ],
  "metadata": {
    "accelerator": "GPU",
    "colab": {
      "gpuType": "T4",
      "provenance": [],
      "include_colab_link": true
    },
    "kernelspec": {
      "display_name": "Python 3",
      "name": "python3"
    },
    "language_info": {
      "name": "python"
    }
  },
  "nbformat": 4,
  "nbformat_minor": 0
}